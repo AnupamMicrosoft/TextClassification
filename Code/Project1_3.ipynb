{
 "cells": [
  {
   "cell_type": "code",
   "execution_count": 1,
   "metadata": {},
   "outputs": [],
   "source": [
    "from sklearn.datasets import fetch_20newsgroups\n",
    "from sklearn.metrics import classification_report\n",
    "from sklearn.metrics import confusion_matrix\n",
    "from sklearn.multiclass import OneVsOneClassifier\n",
    "from sklearn.multiclass import OneVsRestClassifier\n",
    "import pandas as pd\n",
    "import matplotlib.pyplot as plt\n",
    "import numpy as np\n",
    "\n",
    "#########################################################################################################\n",
    "#datasets for question 8                                                                                \n",
    "categories = ['comp.sys.ibm.pc.hardware', 'comp.sys.mac.hardware', 'misc.forsale',\n",
    "     'soc.religion.christian']\n",
    "ng_train = fetch_20newsgroups(subset = 'train', categories = categories, shuffle = True, random_state = 0)\n",
    "ng_test = fetch_20newsgroups(subset = 'test', categories = categories, shuffle = True, random_state = 0) \n",
    "\n",
    "# Below is the code to convert the training dataset into pandasdata frame                                   \n",
    "training_dataframe = pd.DataFrame(ng_train.data)\n",
    "training_targetframe = pd.DataFrame(ng_train.target)\n",
    "training_targetframe.columns = ['class']\n",
    "trainingdata = pd.concat([training_dataframe,training_targetframe],axis = 1)\n",
    "trainingdata.columns = ['text','class']\n",
    "\n",
    "# Below is the code to convert the testing dataset into pandas data frame\n",
    "testing_dataframe = pd.DataFrame(ng_test.data)\n",
    "testing_targetframe = pd.DataFrame(ng_test.target)\n",
    "testing_targetframe.columns = ['class']\n",
    "testingdata = pd.concat([testing_dataframe,testing_targetframe],axis = 1)\n",
    "testingdata.columns = ['text','class']\n",
    "#########################################################################################################\n"
   ]
  },
  {
   "cell_type": "code",
   "execution_count": 2,
   "metadata": {},
   "outputs": [
    {
     "name": "stdout",
     "output_type": "stream",
     "text": [
      "(2352, 8699)\n",
      "(1565, 8699)\n"
     ]
    }
   ],
   "source": [
    "#########################################################################################################\n",
    "from sklearn.feature_extraction.text import CountVectorizer\n",
    "from sklearn.feature_extraction.text import TfidfVectorizer\n",
    "from sklearn.feature_extraction import text\n",
    "import nltk\n",
    "from nltk import pos_tag\n",
    "import re\n",
    "\n",
    "wnl = nltk.wordnet.WordNetLemmatizer()\n",
    "analyzer=CountVectorizer().build_analyzer()\n",
    "#regex to check digits\n",
    "pattern = re.compile(\"[+-]?\\d+(?:\\.\\d+)?$\")\n",
    "\n",
    "def penn2morphy(penntag):\n",
    "    \"\"\" Converts Penn Treebank tags to WordNet. \"\"\"\n",
    "    morphy_tag = {'NN':'n', 'JJ':'a',\n",
    "                  'VB':'v', 'RB':'r'}\n",
    "    try:\n",
    "        return morphy_tag[penntag[:2]]\n",
    "    except:\n",
    "        return 'n' \n",
    "    \n",
    "def lemmatize_sent(list_word):\n",
    "    return [wnl.lemmatize(word.lower(),pos=penn2morphy(tag)) \n",
    "           for word, tag in pos_tag(list_word)]\n",
    "\n",
    "def lem_rmv_digit(doc):\n",
    "\n",
    "    word = [word for word in lemmatize_sent(analyzer(doc))]\n",
    "    return (filter(lambda x: not pattern.match(x),word))\n",
    "   \n",
    "count_vect = CountVectorizer(min_df=3, stop_words=\"english\",analyzer=lem_rmv_digit)\n",
    "X_train_counts = count_vect.fit_transform(ng_train.data)\n",
    "X_test_counts = count_vect.transform(ng_test.data)\n",
    "print(X_train_counts.shape)\n",
    "print(X_test_counts.shape)\n",
    "#########################################################################################################"
   ]
  },
  {
   "cell_type": "code",
   "execution_count": null,
   "metadata": {},
   "outputs": [],
   "source": []
  },
  {
   "cell_type": "code",
   "execution_count": 3,
   "metadata": {},
   "outputs": [
    {
     "name": "stdout",
     "output_type": "stream",
     "text": [
      "(2352, 8699)\n",
      "(1565, 8699)\n"
     ]
    }
   ],
   "source": [
    "#########################################################################################################\n",
    "# Feature extraction \n",
    "from sklearn.feature_extraction.text import TfidfTransformer\n",
    "\n",
    "tfidf = TfidfTransformer()\n",
    "tfidf_matrix_train = tfidf.fit_transform(X_train_counts).toarray()\n",
    "tfidf_matrix_test = tfidf.transform(X_test_counts).toarray()\n",
    "\n",
    "print (tfidf_matrix_train.shape)\n",
    "print (tfidf_matrix_test.shape)\n",
    "#########################################################################################################"
   ]
  },
  {
   "cell_type": "code",
   "execution_count": 4,
   "metadata": {},
   "outputs": [],
   "source": [
    "#########################################################################################################\n",
    "# The below code does Dimensionality reduction with LSI Only\n",
    "from sklearn.decomposition import TruncatedSVD\n",
    "\n",
    "# Dimensionality reduction with LSI\n",
    "svd = TruncatedSVD(n_components = 50, random_state = 0)\n",
    "train_fitting = svd.fit_transform(tfidf_matrix_train)\n",
    "test_fitting = svd.transform(tfidf_matrix_test)\n",
    "\n",
    "# The below code is for training and testing data \n",
    "train_output = np.array(training_targetframe)\n",
    "test_output = np.array(testing_targetframe)\n",
    "#########################################################################################################"
   ]
  },
  {
   "cell_type": "code",
   "execution_count": 5,
   "metadata": {},
   "outputs": [
    {
     "name": "stderr",
     "output_type": "stream",
     "text": [
      "C:\\Users\\madhu.kolli\\AppData\\Local\\Continuum\\anaconda3\\lib\\site-packages\\sklearn\\utils\\validation.py:578: DataConversionWarning: A column-vector y was passed when a 1d array was expected. Please change the shape of y to (n_samples, ), for example using ravel().\n",
      "  y = column_or_1d(y, warn=True)\n"
     ]
    },
    {
     "name": "stdout",
     "output_type": "stream",
     "text": [
      "Confusion matrix, without normalization\n",
      "[[287  33  41  31]\n",
      " [129 158  54  44]\n",
      " [ 44  20 320   6]\n",
      " [  2   0   9 387]]\n"
     ]
    },
    {
     "data": {
      "image/png": "[encoded data removed]",
      "text/plain": [
       "<matplotlib.figure.Figure at 0x290d41a4320>"
      ]
     },
     "metadata": {},
     "output_type": "display_data"
    },
    {
     "name": "stdout",
     "output_type": "stream",
     "text": [
      "Naive Bayes Classifier: Scores - \n",
      "             precision    recall  f1-score   support\n",
      "\n",
      "          0     0.6212    0.7321    0.6721       392\n",
      "          1     0.7488    0.4104    0.5302       385\n",
      "          2     0.7547    0.8205    0.7862       390\n",
      "          3     0.8269    0.9724    0.8938       398\n",
      "\n",
      "avg / total     0.7382    0.7361    0.7220      1565\n",
      "\n"
     ]
    }
   ],
   "source": [
    "#########################################################################################################\n",
    "#Naive Bayes Classifier and for fitting the Naive Bayes Classifier \n",
    "from sklearn.naive_bayes import GaussianNB\n",
    "import itertools\n",
    "classifier_bayes = GaussianNB()\n",
    "classifier_bayes.fit(train_fitting, train_output)\n",
    "\n",
    "# Predicting the Test set results\n",
    "test_prediction = classifier_bayes.predict(test_fitting)\n",
    "\n",
    "# Making the Confusion Matrix\n",
    "conf_matrix = confusion_matrix(test_output, test_prediction)\n",
    "\n",
    "############################# Confustion Matrix ##########################################\n",
    "#http://scikit-learn.org/stable/auto_examples/model_selection/plot_confusion_matrix.html\n",
    "def plot_confusion_matrix(cm, classes,\n",
    "                          normalize=False,\n",
    "                          title='Confusion matrix',\n",
    "                          cmap=plt.cm.Blues):\n",
    "    \"\"\"\n",
    "    This function prints and plots the confusion matrix.\n",
    "    Normalization can be applied by setting `normalize=True`.\n",
    "    \"\"\"\n",
    "    if normalize:\n",
    "        cm = cm.astype('float') / cm.sum(axis=1)[:, np.newaxis]\n",
    "        print(\"Normalized confusion matrix\")\n",
    "    else:\n",
    "        print('Confusion matrix, without normalization')\n",
    "\n",
    "    print(cm)\n",
    "\n",
    "    plt.imshow(cm, interpolation='nearest', cmap=cmap)\n",
    "    plt.title(title)\n",
    "    plt.colorbar()\n",
    "    tick_marks = np.arange(len(classes))\n",
    "    plt.xticks(tick_marks, classes, rotation=45)\n",
    "    plt.yticks(tick_marks, classes)\n",
    "\n",
    "    fmt = '.2f' if normalize else 'd'\n",
    "    thresh = cm.max() / 2.\n",
    "    for i, j in itertools.product(range(cm.shape[0]), range(cm.shape[1])):\n",
    "        plt.text(j, i, format(cm[i, j], fmt),\n",
    "                 horizontalalignment=\"center\",\n",
    "                 color=\"white\" if cm[i, j] > thresh else \"black\")\n",
    "\n",
    "    plt.tight_layout()\n",
    "\n",
    "\n",
    "np.set_printoptions(precision=2)\n",
    "class_names = ng_test.target_names\n",
    "# Plot non-normalized confusion matrix\n",
    "plt.figure()\n",
    "plot_confusion_matrix(conf_matrix, classes=class_names,\n",
    "                      title='Confusion matrix, without normalization')\n",
    "plt.show()\n",
    "############################# Confustion Matrix ##########################################\n",
    "\n",
    "\n",
    "#Calculating accuracy, precision and recall \n",
    "accuracy_bayes = (conf_matrix[0,0] + conf_matrix[1,1] + conf_matrix[2,2] + conf_matrix[3,3])/conf_matrix.sum()\n",
    "print (\"Naive Bayes Classifier: Scores - \")\n",
    "print(classification_report(test_output,test_prediction, digits=4))\n",
    "#########################################################################################################"
   ]
  },
  {
   "cell_type": "code",
   "execution_count": 6,
   "metadata": {},
   "outputs": [
    {
     "name": "stderr",
     "output_type": "stream",
     "text": [
      "C:\\Users\\madhu.kolli\\AppData\\Local\\Continuum\\anaconda3\\lib\\site-packages\\sklearn\\utils\\validation.py:578: DataConversionWarning: A column-vector y was passed when a 1d array was expected. Please change the shape of y to (n_samples, ), for example using ravel().\n",
      "  y = column_or_1d(y, warn=True)\n"
     ]
    },
    {
     "name": "stdout",
     "output_type": "stream",
     "text": [
      "SVM One vs One with LSI reduction\n",
      "             precision    recall  f1-score   support\n",
      "\n",
      "          0     0.7762    0.8495    0.8112       392\n",
      "          1     0.8567    0.7766    0.8147       385\n",
      "          2     0.8878    0.9128    0.9001       390\n",
      "          3     0.9896    0.9598    0.9745       398\n",
      "\n",
      "avg / total     0.8781    0.8754    0.8758      1565\n",
      "\n",
      "SVM One vs Rest with LSI reduction\n",
      "             precision    recall  f1-score   support\n",
      "\n",
      "          0     0.8248    0.7806    0.8021       392\n",
      "          1     0.8165    0.7974    0.8068       385\n",
      "          2     0.8641    0.9128    0.8878       390\n",
      "          3     0.9631    0.9824    0.9726       398\n",
      "\n",
      "avg / total     0.8677    0.8690    0.8680      1565\n",
      "\n"
     ]
    }
   ],
   "source": [
    "#########################################################################################################\n",
    "# This code creates the SVM classifier and does the one vs one and one vs rest based on LSI\n",
    "from sklearn.svm import SVC\n",
    "svmclassifier = SVC(kernel = 'linear', random_state = 0)\n",
    "\n",
    "############################ For SVM/LSI Combo for One vs One ############################ \n",
    "#Creating the  svm one vs one classifier\n",
    "oneonone_svmclassifier = OneVsOneClassifier(svmclassifier)\n",
    "oneonone_svmclassifier.fit(train_fitting, train_output)\n",
    "# Predicting the Test set results\n",
    "oneonone_svmpredictor = oneonone_svmclassifier.predict(test_fitting)\n",
    "# Making the Confusion Matrix, accuracy, precision, recall\n",
    "conf_matrixsvm = confusion_matrix(test_output, oneonone_svmpredictor)\n",
    "oneononeacc_svmclassifier = (conf_matrixsvm[0,0] + conf_matrixsvm[1,1] + conf_matrixsvm[2,2] + conf_matrixsvm[3,3])/conf_matrixsvm.sum()\n",
    "print(\"SVM One vs One with LSI reduction\")\n",
    "print(classification_report(test_output, oneonone_svmpredictor,digits=4))\n",
    "############################ For SVM/LSI Combo for One vs One ############################ \n",
    "\n",
    "############################ For SVM/LSI Combo for One vs Rest ############################ \n",
    "#Creating the one vs rest classifier\n",
    "onevsrest_oneonone_svmclassifier = OneVsRestClassifier(svmclassifier)\n",
    "onevsrest_oneonone_svmclassifier.fit(train_fitting,train_output)\n",
    "# Predicting the Test set results\n",
    "predict_onevsrest_svmclassifier = onevsrest_oneonone_svmclassifier.predict(test_fitting)\n",
    "# Making the Confusion Matrix, accuracy, precision, recall\n",
    "conf_matrixsvm_rest = confusion_matrix(test_output, predict_onevsrest_svmclassifier)\n",
    "onevsrestacc_svmclassifier = (conf_matrixsvm_rest[0,0] + conf_matrixsvm_rest[1,1] + conf_matrixsvm_rest[2,2] + conf_matrixsvm_rest[3,3])/conf_matrixsvm_rest.sum()\n",
    "print(\"SVM One vs Rest with LSI reduction\")\n",
    "print(classification_report(test_output, predict_onevsrest_svmclassifier,digits=4))\n",
    "############################ For SVM/LSI Combo for One vs Rest ############################ \n",
    "\n",
    "#########################################################################################################"
   ]
  },
  {
   "cell_type": "code",
   "execution_count": null,
   "metadata": {},
   "outputs": [],
   "source": []
  },
  {
   "cell_type": "code",
   "execution_count": 7,
   "metadata": {},
   "outputs": [],
   "source": [
    "#########################################################################################################\n",
    "# The below code is for dimensionality reduction with NMF\n",
    "from sklearn.decomposition import NMF\n",
    "\n",
    "svd = NMF(n_components = 50, random_state = 0)\n",
    "train_fitting = svd.fit_transform(tfidf_matrix_train)\n",
    "test_fitting = svd.transform(tfidf_matrix_test)\n",
    "\n",
    "#Creating the training and testing data output\n",
    "train_output = np.array(training_targetframe)\n",
    "test_output = np.array(testing_targetframe)\n",
    "#########################################################################################################"
   ]
  },
  {
   "cell_type": "code",
   "execution_count": 8,
   "metadata": {},
   "outputs": [
    {
     "name": "stdout",
     "output_type": "stream",
     "text": [
      "Naive Bayes Scores with NMF\n",
      "             precision    recall  f1-score   support\n",
      "\n",
      "          0     0.6401    0.7985    0.7106       392\n",
      "          1     0.8280    0.6000    0.6958       385\n",
      "          2     0.7297    0.6231    0.6722       390\n",
      "          3     0.8448    0.9849    0.9095       398\n",
      "\n",
      "avg / total     0.7607    0.7534    0.7480      1565\n",
      "\n"
     ]
    },
    {
     "name": "stderr",
     "output_type": "stream",
     "text": [
      "C:\\Users\\madhu.kolli\\AppData\\Local\\Continuum\\anaconda3\\lib\\site-packages\\sklearn\\utils\\validation.py:578: DataConversionWarning: A column-vector y was passed when a 1d array was expected. Please change the shape of y to (n_samples, ), for example using ravel().\n",
      "  y = column_or_1d(y, warn=True)\n"
     ]
    }
   ],
   "source": [
    "#########################################################################################################\n",
    "# Naive Bayes Classifier with NMF\n",
    "from sklearn.decomposition import NMF\n",
    "\n",
    "#NB Classifier with fitting\n",
    "from sklearn.naive_bayes import MultinomialNB\n",
    "classifier_bayes = MultinomialNB()\n",
    "classifier_bayes.fit(train_fitting, train_output)\n",
    "\n",
    "# Predicting \n",
    "pred_NB_NMF = classifier_bayes.predict(test_fitting)\n",
    "\n",
    "# Making the Confusion Matrix\n",
    "from sklearn.metrics import confusion_matrix\n",
    "conf_matrixnmf = confusion_matrix(test_output, pred_NB_NMF)\n",
    "\n",
    "#Calculating accuracy, precision and recall \n",
    "accuracy_NB_NMF = (conf_matrixnmf[0,0] + conf_matrixnmf[1,1] + conf_matrixnmf[2,2] + conf_matrixnmf[3,3])/conf_matrixnmf.sum()\n",
    "print(\"Naive Bayes Scores with NMF\")\n",
    "print(classification_report(test_output, pred_NB_NMF, digits=4))\n",
    "#########################################################################################################"
   ]
  },
  {
   "cell_type": "code",
   "execution_count": 9,
   "metadata": {},
   "outputs": [
    {
     "name": "stderr",
     "output_type": "stream",
     "text": [
      "C:\\Users\\madhu.kolli\\AppData\\Local\\Continuum\\anaconda3\\lib\\site-packages\\sklearn\\utils\\validation.py:578: DataConversionWarning: A column-vector y was passed when a 1d array was expected. Please change the shape of y to (n_samples, ), for example using ravel().\n",
      "  y = column_or_1d(y, warn=True)\n"
     ]
    },
    {
     "name": "stdout",
     "output_type": "stream",
     "text": [
      "SVM One vs One with LSI reduction\n",
      "             precision    recall  f1-score   support\n",
      "\n",
      "          0     0.6573    0.5969    0.6257       392\n",
      "          1     0.9167    0.4571    0.6101       385\n",
      "          2     0.4978    0.8667    0.6324       390\n",
      "          3     0.9615    0.8166    0.8832       398\n",
      "\n",
      "avg / total     0.7587    0.6856    0.6890      1565\n",
      "\n",
      "SVM One vs Rest with NMF reduction\n",
      "             precision    recall  f1-score   support\n",
      "\n",
      "          0     0.7078    0.6735    0.6902       392\n",
      "          1     0.7927    0.7351    0.7628       385\n",
      "          2     0.7634    0.6205    0.6846       390\n",
      "          3     0.7529    0.9799    0.8515       398\n",
      "\n",
      "avg / total     0.7540    0.7534    0.7477      1565\n",
      "\n"
     ]
    }
   ],
   "source": [
    "#########################################################################################################\n",
    "# This code creates the SVM classifier and does the one vs one and one vs rest based on NMF\n",
    "#SVM Classifier\n",
    "from sklearn.svm import SVC\n",
    "svmclassifier = SVC(kernel = 'linear', random_state = 0)\n",
    "\n",
    "############################ For SVM/LSI Combo for One vs One ############################ \n",
    "#Creating the  svm one vs one classifier\n",
    "oneonone_svmclassifier = OneVsOneClassifier(svmclassifier)\n",
    "oneonone_svmclassifier.fit(train_fitting, train_output)\n",
    "# Predicting the Test set results\n",
    "oneonone_svmpredictor = oneonone_svmclassifier.predict(test_fitting)\n",
    "# Making the Confusion Matrix, accuracy, precision, recall\n",
    "conf_matrixsvm = confusion_matrix(test_output, oneonone_svmpredictor)\n",
    "oneononeacc_svmclassifier = (conf_matrixsvm[0,0] + conf_matrixsvm[1,1] + conf_matrixsvm[2,2] + conf_matrixsvm[3,3])/conf_matrixsvm.sum()\n",
    "print(\"SVM One vs One with LSI reduction\")\n",
    "print(classification_report(test_output, oneonone_svmpredictor,digits=4))\n",
    "############################ For SVM/LSI Combo for One vs One ############################ \n",
    "\n",
    "############################ For SVM/LSI Combo for One vs Rest ############################ \n",
    "#Creating the one vs rest classifier\n",
    "onevsrest_oneonone_svmclassifier = OneVsRestClassifier(svmclassifier)\n",
    "onevsrest_oneonone_svmclassifier.fit(train_fitting,train_output)\n",
    "# Predicting the Test set results\n",
    "predict_onevsrest_svmclassifier = onevsrest_oneonone_svmclassifier.predict(test_fitting)\n",
    "# Making the Confusion Matrix, accuracy, precision, recall\n",
    "conf_matrixsvm_rest = confusion_matrix(test_output, predict_onevsrest_svmclassifier)\n",
    "onevsrestacc_svmclassifier = (conf_matrixsvm_rest[0,0] + conf_matrixsvm_rest[1,1] + conf_matrixsvm_rest[2,2] + conf_matrixsvm_rest[3,3])/conf_matrixsvm_rest.sum()\n",
    "print(\"SVM One vs Rest with NMF reduction\")\n",
    "print(classification_report(test_output, predict_onevsrest_svmclassifier,digits=4))\n",
    "############################ For SVM/LSI Combo for One vs Rest ############################ \n",
    "\n",
    "#########################################################################################################"
   ]
  },
  {
   "cell_type": "code",
   "execution_count": null,
   "metadata": {},
   "outputs": [],
   "source": []
  }
 ],
 "metadata": {
  "kernelspec": {
   "display_name": "Python 3",
   "language": "python",
   "name": "python3"
  },
  "language_info": {
   "codemirror_mode": {
    "name": "ipython",
    "version": 3
   },
   "file_extension": ".py",
   "mimetype": "text/x-python",
   "name": "python",
   "nbconvert_exporter": "python",
   "pygments_lexer": "ipython3",
   "version": "3.6.4"
  }
 },
 "nbformat": 4,
 "nbformat_minor": 2
}
